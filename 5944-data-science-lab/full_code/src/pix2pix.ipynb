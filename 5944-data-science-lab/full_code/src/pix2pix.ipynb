{
 "nbformat": 4,
 "nbformat_minor": 0,
 "metadata": {
  "colab": {
   "name": "pix2pix",
   "provenance": [],
   "collapsed_sections": [],
   "include_colab_link": true
  },
  "kernelspec": {
   "name": "python3",
   "display_name": "Python 3",
   "language": "python"
  },
  "accelerator": "GPU"
 },
 "cells": [
  {
   "cell_type": "markdown",
   "metadata": {
    "id": "view-in-github",
    "colab_type": "text"
   },
   "source": [
    "<a href=\"https://colab.research.google.com/github/bkkaggle/pytorch-CycleGAN-and-pix2pix/blob/master/pix2pix.ipynb\" target=\"_parent\"><img src=\"https://colab.research.google.com/assets/colab-badge.svg\" alt=\"Open In Colab\"/></a>"
   ]
  },
  {
   "source": [
    "# Prepare Dataset"
   ],
   "cell_type": "markdown",
   "metadata": {}
  },
  {
   "cell_type": "code",
   "execution_count": null,
   "metadata": {},
   "outputs": [],
   "source": [
    "import os\n",
    "import config\n",
    "import datagan\n",
    "import shutil\n",
    "\n",
    "conf = config.Config()"
   ]
  },
  {
   "source": [
    "## Install"
   ],
   "cell_type": "code",
   "metadata": {
    "id": "7wNjDKdQy35h",
    "colab_type": "text"
   },
   "execution_count": null,
   "outputs": []
  },
  {
   "cell_type": "code",
   "metadata": {
    "id": "TRm-USlsHgEV",
    "colab_type": "code",
    "colab": {}
   },
   "source": [
    "!git clone https://github.com/junyanz/pytorch-CycleGAN-and-pix2pix"
   ],
   "execution_count": null,
   "outputs": []
  },
  {
   "cell_type": "code",
   "metadata": {
    "id": "Pt3igws3eiVp",
    "colab_type": "code",
    "colab": {}
   },
   "source": [
    "import os\n",
    "print(f\"current directory is : {os.path.basename(os.getcwd())}\")\n",
    "if os.path.basename(os.getcwd()) != \"pytorch-CycleGAN-and-pix2pix\":\n",
    "    os.chdir('pytorch-CycleGAN-and-pix2pix/')"
   ],
   "execution_count": null,
   "outputs": []
  },
  {
   "cell_type": "code",
   "metadata": {
    "id": "z1EySlOXwwoa",
    "colab_type": "code",
    "colab": {}
   },
   "source": [
    "!pip install -r requirements.txt"
   ],
   "execution_count": null,
   "outputs": []
  },
  {
   "cell_type": "code",
   "execution_count": null,
   "metadata": {},
   "outputs": [],
   "source": [
    "## Augment Data"
   ]
  },
  {
   "cell_type": "code",
   "execution_count": null,
   "metadata": {
    "tags": [
     "outputPrepend"
    ]
   },
   "outputs": [],
   "source": [
    "dataset = datagan.DataForGan()\n",
    "dataset.augmente_data()"
   ]
  },
  {
   "cell_type": "code",
   "execution_count": null,
   "metadata": {
    "tags": []
   },
   "outputs": [],
   "source": [
    "print(conf.GAN_TRAIN_MASK,conf.GAN_COMBINED_DATASET,conf.GAN_TRAIN_MRI)\n",
    "!python datasets/combine_A_and_B.py --fold_A {conf.GAN_TRAIN_MASK} --fold_B {conf.GAN_TRAIN_MRI} --fold_AB {conf.GAN_COMBINED_DATASET}"
   ]
  },
  {
   "cell_type": "markdown",
   "metadata": {
    "id": "gdUz4116xhpm",
    "colab_type": "text"
   },
   "source": [
    "# Pretrained models\n",
    "\n",
    "Download one of the official pretrained models with:\n",
    "\n",
    "-   `bash ./scripts/download_pix2pix_model.sh [edges2shoes, sat2map, map2sat, facades_label2photo, and day2night]`\n",
    "\n",
    "Or add your own pretrained model to `./checkpoints/{NAME}_pretrained/latest_net_G.pt`"
   ]
  },
  {
   "cell_type": "code",
   "metadata": {
    "id": "GC2DEP4M0OsS",
    "colab_type": "code",
    "colab": {}
   },
   "source": [
    "!bash ./scripts/download_pix2pix_model.sh facades_label2photo"
   ],
   "execution_count": null,
   "outputs": []
  },
  {
   "cell_type": "markdown",
   "metadata": {
    "id": "yFw1kDQBx3LN",
    "colab_type": "text"
   },
   "source": [
    "# Training\n",
    "\n",
    "-   `python train.py --dataroot ./datasets/facades --name facades_pix2pix --model pix2pix --direction BtoA`\n",
    "\n",
    "Change the `--dataroot` and `--name` to your own dataset's path and model's name. Use `--gpu_ids 0,1,..` to train on multiple GPUs and `--batch_size` to change the batch size. Add `--direction BtoA` if you want to train a model to transfrom from class B to A."
   ]
  },
  {
   "cell_type": "code",
   "metadata": {
    "id": "0sp7TCT2x9dB",
    "colab_type": "code",
    "colab": {}
   },
   "source": [
    "!python train.py --dataroot {conf.GAN_COMBINED_DATASET} --name {conf.GAN_MODEL_NAME} --model pix2pix --direction AtoB --num_threads 2 --batch_size 32"
   ],
   "execution_count": null,
   "outputs": []
  },
  {
   "cell_type": "markdown",
   "metadata": {
    "id": "9UkcaFZiyASl",
    "colab_type": "text"
   },
   "source": [
    "# Testing\n",
    "\n",
    "-   `python test.py --dataroot ./datasets/facades --direction BtoA --model pix2pix --name facades_pix2pix`\n",
    "\n",
    "Change the `--dataroot`, `--name`, and `--direction` to be consistent with your trained model's configuration and how you want to transform images.\n",
    "\n",
    "> from https://github.com/junyanz/pytorch-CycleGAN-and-pix2pix:\n",
    "> Note that we specified --direction BtoA as Facades dataset's A to B direction is photos to labels.\n",
    "\n",
    "> If you would like to apply a pre-trained model to a collection of input images (rather than image pairs), please use --model test option. See ./scripts/test_single.sh for how to apply a model to Facade label maps (stored in the directory facades/testB).\n",
    "\n",
    "> See a list of currently available models at ./scripts/download_pix2pix_model.sh"
   ]
  },
  {
   "cell_type": "code",
   "metadata": {
    "id": "mey7o6j-0368",
    "colab_type": "code",
    "colab": {}
   },
   "source": [
    "!ls checkpoints/"
   ],
   "execution_count": null,
   "outputs": []
  },
  {
   "cell_type": "code",
   "metadata": {
    "id": "uCsKkEq0yGh0",
    "colab_type": "code",
    "colab": {},
    "pycharm": {
     "name": "#%%\n"
    }
   },
   "source": [
    "!python test.py --dataroot ../data/gan_dataset/mask_mri --direction AtoB --model pix2pix --name {conf.GAN_MODEL_NAME}"
   ],
   "execution_count": null,
   "outputs": []
  },
  {
   "cell_type": "markdown",
   "source": [
    "# Generate Masks"
   ],
   "metadata": {
    "collapsed": false,
    "pycharm": {
     "name": "#%% md\n"
    }
   }
  },
  {
   "cell_type": "code",
   "execution_count": null,
   "outputs": [],
   "source": [
    "from src.random_shapes import generate\n",
    "import os\n",
    "if not os.path.isdir(conf.GAN_GENERATED_IMG):\n",
    "    os.mkdir(conf.GAN_GENERATED_IMG)\n",
    "\n",
    "if not os.path.isdir(conf.GAN_GENERATED_MASKS):\n",
    "    os.mkdir(conf.GAN_GENERATED_MASKS)\n",
    "\n",
    "if not os.path.isdir(conf.GAN_GENERATED_MRI):\n",
    "    os.mkdir(conf.GAN_GENERATED_MRI)\n",
    "\n",
    "generate(number_of_masks_to_generate=33000, start_index=20212, path=conf.GAN_GENERATED_MASKS)"
   ],
   "metadata": {
    "collapsed": false,
    "pycharm": {
     "name": "#%%\n"
    }
   }
  },
  {
   "cell_type": "markdown",
   "source": [
    "# Generate MRI images"
   ],
   "metadata": {
    "collapsed": false,
    "pycharm": {
     "name": "#%% md\n"
    }
   }
  },
  {
   "cell_type": "code",
   "execution_count": null,
   "outputs": [],
   "source": [
    "os.chdir(os.path.join(conf.WORKING_DIR, \"pytorch-CycleGAN-and-pix2pix\"))\n",
    "!python test.py --dataroot {conf.GAN_GENERATED_MASKS} --name {conf.GAN_MODEL_NAME} --model test --netG unet_256 --direction AtoB --dataset_mode single --norm batch --results_dir {conf.GAN_GENERATED_MRI} --max_dataset_size 33000 --num_test 33000"
   ],
   "metadata": {
    "collapsed": false,
    "pycharm": {
     "name": "#%%\n"
    }
   }
  },
  {
   "cell_type": "markdown",
   "source": [
    "Move generated images to data directory"
   ],
   "metadata": {
    "collapsed": false,
    "pycharm": {
     "name": "#%% md\n"
    }
   }
  },
  {
   "cell_type": "code",
   "execution_count": null,
   "outputs": [],
   "source": [
    "import shutil\n",
    "import os\n",
    "\n",
    "os.chdir(os.path.join(conf.DATASET_DIR, conf.GAN_MODEL_NAME, \"test_latest\", \"images\"))\n",
    "for file_name in os.listdir():\n",
    "    if file_name.find(\"fake\")!= -1:\n",
    "        target_file_name = os.path.join(conf.GAN_GENERATED_MRI, file_name.replace(\"_fake\", \"\"))\n",
    "        shutil.move(file_name, target_file_name)"
   ],
   "metadata": {
    "collapsed": false,
    "pycharm": {
     "name": "#%%\n"
    }
   }
  }
 ]
}