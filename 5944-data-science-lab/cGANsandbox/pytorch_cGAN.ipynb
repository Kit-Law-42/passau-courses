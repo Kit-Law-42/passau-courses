{
  "nbformat": 4,
  "nbformat_minor": 0,
  "metadata": {
    "orig_nbformat": 2,
    "colab": {
      "name": "pytorch.ipynb",
      "provenance": []
    },
    "kernelspec": {
      "name": "python3",
      "display_name": "Python 3"
    }
  },
  "cells": [
    {
      "cell_type": "markdown",
      "metadata": {
        "id": "BS92syYgnm4c"
      },
      "source": [
        "# Pytorch in cGAN \r\n",
        "This jupyter notebook is coming from \r\n",
        "https://github.com/eriklindernoren/PyTorch-GAN/blob/master/implementations/cgan/cgan.py\r\n",
        "\r\n",
        "Several edits were made to fit jupyter notebook style working in Google colab. See edits below.\r\n",
        "\r\n",
        "This jupyter notebook served as a study of GAN network for brain tumors segmentation in 5944 data-science lab project in university of Passau."
      ]
    },
    {
      "cell_type": "code",
      "metadata": {
        "id": "SrmHa8eck-i2"
      },
      "source": [
        "import argparse\n",
        "import os\n",
        "import numpy as np"
      ],
      "execution_count": 1,
      "outputs": []
    },
    {
      "cell_type": "code",
      "metadata": {
        "id": "e4kdihWflA1l"
      },
      "source": [
        "import torchvision.transforms as transforms\r\n",
        "from torchvision.utils import save_image\r\n",
        "\r\n",
        "from torch.utils.data import DataLoader\r\n",
        "from torchvision import datasets\r\n",
        "from torch.autograd import Variable\r\n",
        "\r\n",
        "import torch.nn as nn\r\n",
        "import torch.nn.functional as F\r\n",
        "import torch"
      ],
      "execution_count": 2,
      "outputs": []
    },
    {
      "cell_type": "markdown",
      "metadata": {
        "id": "4NDD6uETm2tc"
      },
      "source": [
        "### Change argument list to a jupyter-friendly form\r\n",
        "\r\n",
        "https://stackoverflow.com/questions/48796169/how-to-fix-ipykernel-launcher-py-error-unrecognized-arguments-in-jupyter"
      ]
    },
    {
      "cell_type": "code",
      "metadata": {
        "id": "2aYGGeq2mB1J"
      },
      "source": [
        "os.makedirs(\"images\", exist_ok=True)\r\n",
        "\r\n",
        "# parser = argparse.ArgumentParser()\r\n",
        "# parser.add_argument(\"--n_epochs\", type=int, default=200,\r\n",
        "#                     help=\"number of epochs of training\")\r\n",
        "# parser.add_argument(\"--batch_size\", type=int, default=64,\r\n",
        "#                     help=\"size of the batches\")\r\n",
        "# parser.add_argument(\"--lr\", type=float, default=0.0002,\r\n",
        "#                     help=\"adam: learning rate\")\r\n",
        "# parser.add_argument(\"--b1\", type=float, default=0.5,\r\n",
        "#                     help=\"adam: decay of first order momentum of gradient\")\r\n",
        "# parser.add_argument(\"--b2\", type=float, default=0.999,\r\n",
        "#                     help=\"adam: decay of first order momentum of gradient\")\r\n",
        "# parser.add_argument(\"--n_cpu\", type=int, default=8,\r\n",
        "#                     help=\"number of cpu threads to use during batch generation\")\r\n",
        "# parser.add_argument(\"--latent_dim\", type=int, default=100,\r\n",
        "#                     help=\"dimensionality of the latent space\")\r\n",
        "# parser.add_argument(\"--n_classes\", type=int, default=10,\r\n",
        "#                     help=\"number of classes for dataset\")\r\n",
        "# parser.add_argument(\"--img_size\", type=int, default=32,\r\n",
        "#                     help=\"size of each image dimension\")\r\n",
        "# parser.add_argument(\"--channels\", type=int, default=1,\r\n",
        "#                     help=\"number of image channels\")\r\n",
        "# parser.add_argument(\"--sample_interval\", type=int, default=400,\r\n",
        "#                     help=\"interval between image sampling\")\r\n",
        "# opt = parser.parse_args()\r\n",
        "# print(opt)\r\n",
        "\r\n"
      ],
      "execution_count": 7,
      "outputs": []
    }
  ]
}